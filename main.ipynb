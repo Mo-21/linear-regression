{
 "cells": [
  {
   "cell_type": "markdown",
   "metadata": {},
   "source": [
    "# Linear Regression and Data Visualization with Seaborn"
   ]
  },
  {
   "cell_type": "code",
   "execution_count": 82,
   "metadata": {},
   "outputs": [],
   "source": [
    "import pandas as pd"
   ]
  },
  {
   "cell_type": "code",
   "execution_count": 83,
   "metadata": {},
   "outputs": [],
   "source": [
    "df = pd.read_csv('data/cost_revenue_dirty.csv')"
   ]
  },
  {
   "cell_type": "markdown",
   "metadata": {},
   "source": [
    "## Data Exploration and Cleaning"
   ]
  },
  {
   "cell_type": "code",
   "execution_count": 84,
   "metadata": {},
   "outputs": [
    {
     "name": "stdout",
     "output_type": "stream",
     "text": [
      "The data have 5391 rows and 6 columns\n",
      "The data have 0 NaN values\n",
      "The data have 0 duplicated rows\n",
      "Type of columns:\n",
      "Rank                      int64\n",
      "Release_Date             object\n",
      "Movie_Title              object\n",
      "USD_Production_Budget    object\n",
      "USD_Worldwide_Gross      object\n",
      "USD_Domestic_Gross       object\n",
      "dtype: object\n"
     ]
    }
   ],
   "source": [
    "print(f'The data have {df.shape[0]} rows and {df.shape[1]} columns')\n",
    "print(f'The data have {df.isna().sum().sum()} NaN values')\n",
    "print(f'The data have {df.duplicated().sum()} duplicated rows')\n",
    "print(f'Type of columns:\\n{df.dtypes}')"
   ]
  },
  {
   "cell_type": "code",
   "execution_count": 85,
   "metadata": {},
   "outputs": [],
   "source": [
    "# Removing $ and , from the columns\n",
    "df['USD_Production_Budget'] = df['USD_Production_Budget'].str.replace('$', '').str.replace(',', '')\n",
    "df['USD_Worldwide_Gross'] = df['USD_Worldwide_Gross'].str.replace('$', '').str.replace(',', '')\n",
    "df['USD_Domestic_Gross'] = df['USD_Domestic_Gross'].str.replace('$', '').str.replace(',', '')"
   ]
  },
  {
   "cell_type": "code",
   "execution_count": 86,
   "metadata": {},
   "outputs": [],
   "source": [
    "df.Release_Date = pd.to_datetime(df.Release_Date)"
   ]
  },
  {
   "cell_type": "markdown",
   "metadata": {},
   "source": [
    "## Investigate the Films that had Zero Revenue"
   ]
  },
  {
   "cell_type": "code",
   "execution_count": 87,
   "metadata": {},
   "outputs": [
    {
     "data": {
      "text/plain": [
       "31113737.57837136"
      ]
     },
     "execution_count": 87,
     "metadata": {},
     "output_type": "execute_result"
    }
   ],
   "source": [
    "# the average production budget of the films in the data set\n",
    "avg_production_budget = df['USD_Production_Budget'].astype('float').mean()\n",
    "avg_production_budget"
   ]
  },
  {
   "cell_type": "code",
   "execution_count": 88,
   "metadata": {},
   "outputs": [
    {
     "data": {
      "text/plain": [
       "88855421.96271564"
      ]
     },
     "execution_count": 88,
     "metadata": {},
     "output_type": "execute_result"
    }
   ],
   "source": [
    "# the average worldwide gross revenue of films\n",
    "avg_worldwide_gross = df['USD_Worldwide_Gross'].astype('float').mean()\n",
    "avg_worldwide_gross"
   ]
  },
  {
   "cell_type": "code",
   "execution_count": 89,
   "metadata": {},
   "outputs": [
    {
     "name": "stdout",
     "output_type": "stream",
     "text": [
      "0.0\n",
      "0.0\n"
     ]
    }
   ],
   "source": [
    "min_domestic_gross = df['USD_Domestic_Gross'].astype('float').min()\n",
    "min_worldwide_gross = df['USD_Worldwide_Gross'].astype('float').min()\n",
    "print(min_domestic_gross)\n",
    "print(min_worldwide_gross)"
   ]
  },
  {
   "cell_type": "code",
   "execution_count": 90,
   "metadata": {},
   "outputs": [
    {
     "data": {
      "text/plain": [
       "3865206.0"
      ]
     },
     "execution_count": 90,
     "metadata": {},
     "output_type": "execute_result"
    }
   ],
   "source": [
    "# Are the bottom 25% of films actually profitable or do they lose money?\n",
    "bottom_25_percent = df['USD_Worldwide_Gross'].astype('float').quantile(0.25)\n",
    "bottom_25_percent"
   ]
  },
  {
   "cell_type": "code",
   "execution_count": 91,
   "metadata": {},
   "outputs": [
    {
     "name": "stdout",
     "output_type": "stream",
     "text": [
      "425000000.0\n",
      "2783918982.0\n"
     ]
    }
   ],
   "source": [
    "# the highest production budget and highest worldwide gross revenue of any film\n",
    "max_production_budget = df['USD_Production_Budget'].astype('float').max()\n",
    "max_worldwide_gross = df['USD_Worldwide_Gross'].astype('float').max()\n",
    "print(max_production_budget)\n",
    "print(max_worldwide_gross)"
   ]
  },
  {
   "cell_type": "code",
   "execution_count": 92,
   "metadata": {},
   "outputs": [
    {
     "data": {
      "text/plain": [
       "2427    181041.0\n",
       "Name: USD_Worldwide_Gross, dtype: float64"
      ]
     },
     "execution_count": 92,
     "metadata": {},
     "output_type": "execute_result"
    }
   ],
   "source": [
    "# How much revenue did the lowest budget films make?\n",
    "min_production_budget = df['USD_Production_Budget'].astype('float').min()\n",
    "min_budget_films = df[df['USD_Production_Budget'].astype('float') == min_production_budget]\n",
    "min_budget_revenue = min_budget_films['USD_Worldwide_Gross'].astype('float')\n",
    "min_budget_revenue"
   ]
  },
  {
   "cell_type": "code",
   "execution_count": 93,
   "metadata": {},
   "outputs": [
    {
     "data": {
      "text/plain": [
       "3529    2.783919e+09\n",
       "Name: USD_Worldwide_Gross, dtype: float64"
      ]
     },
     "execution_count": 93,
     "metadata": {},
     "output_type": "execute_result"
    }
   ],
   "source": [
    "# How much revenue did the highest budget films make?\n",
    "max_budget_films = df[df['USD_Production_Budget'].astype(\n",
    "    'float') == max_production_budget]\n",
    "max_budget_revenue = max_budget_films['USD_Worldwide_Gross'].astype('float')\n",
    "max_budget_revenue"
   ]
  },
  {
   "cell_type": "code",
   "execution_count": 94,
   "metadata": {},
   "outputs": [
    {
     "data": {
      "text/html": [
       "<div>\n",
       "<style scoped>\n",
       "    .dataframe tbody tr th:only-of-type {\n",
       "        vertical-align: middle;\n",
       "    }\n",
       "\n",
       "    .dataframe tbody tr th {\n",
       "        vertical-align: top;\n",
       "    }\n",
       "\n",
       "    .dataframe thead th {\n",
       "        text-align: right;\n",
       "    }\n",
       "</style>\n",
       "<table border=\"1\" class=\"dataframe\">\n",
       "  <thead>\n",
       "    <tr style=\"text-align: right;\">\n",
       "      <th></th>\n",
       "      <th>Rank</th>\n",
       "      <th>Release_Date</th>\n",
       "      <th>Movie_Title</th>\n",
       "      <th>USD_Production_Budget</th>\n",
       "      <th>USD_Worldwide_Gross</th>\n",
       "      <th>USD_Domestic_Gross</th>\n",
       "    </tr>\n",
       "  </thead>\n",
       "  <tbody>\n",
       "    <tr>\n",
       "      <th>4526</th>\n",
       "      <td>3500</td>\n",
       "      <td>2013-12-31</td>\n",
       "      <td>Re-Kill</td>\n",
       "      <td>9500000</td>\n",
       "      <td>0</td>\n",
       "      <td>0</td>\n",
       "    </tr>\n",
       "    <tr>\n",
       "      <th>4743</th>\n",
       "      <td>4955</td>\n",
       "      <td>2014-12-08</td>\n",
       "      <td>Jesse</td>\n",
       "      <td>950000</td>\n",
       "      <td>0</td>\n",
       "      <td>0</td>\n",
       "    </tr>\n",
       "    <tr>\n",
       "      <th>3817</th>\n",
       "      <td>4954</td>\n",
       "      <td>2010-12-31</td>\n",
       "      <td>Trance</td>\n",
       "      <td>950000</td>\n",
       "      <td>0</td>\n",
       "      <td>0</td>\n",
       "    </tr>\n",
       "    <tr>\n",
       "      <th>4689</th>\n",
       "      <td>4953</td>\n",
       "      <td>2014-10-01</td>\n",
       "      <td>Banshee Chapter</td>\n",
       "      <td>950000</td>\n",
       "      <td>78122</td>\n",
       "      <td>0</td>\n",
       "    </tr>\n",
       "    <tr>\n",
       "      <th>4843</th>\n",
       "      <td>4956</td>\n",
       "      <td>2015-03-03</td>\n",
       "      <td>Ask Me Anything</td>\n",
       "      <td>950000</td>\n",
       "      <td>0</td>\n",
       "      <td>0</td>\n",
       "    </tr>\n",
       "    <tr>\n",
       "      <th>...</th>\n",
       "      <td>...</td>\n",
       "      <td>...</td>\n",
       "      <td>...</td>\n",
       "      <td>...</td>\n",
       "      <td>...</td>\n",
       "      <td>...</td>\n",
       "    </tr>\n",
       "    <tr>\n",
       "      <th>4163</th>\n",
       "      <td>5306</td>\n",
       "      <td>2012-05-18</td>\n",
       "      <td>Indie Game: The Movie</td>\n",
       "      <td>100000</td>\n",
       "      <td>0</td>\n",
       "      <td>0</td>\n",
       "    </tr>\n",
       "    <tr>\n",
       "      <th>4536</th>\n",
       "      <td>5308</td>\n",
       "      <td>2013-12-31</td>\n",
       "      <td>Echo Dr.</td>\n",
       "      <td>100000</td>\n",
       "      <td>0</td>\n",
       "      <td>0</td>\n",
       "    </tr>\n",
       "    <tr>\n",
       "      <th>4783</th>\n",
       "      <td>5307</td>\n",
       "      <td>2014-12-31</td>\n",
       "      <td>Dude, Where's My Dog</td>\n",
       "      <td>100000</td>\n",
       "      <td>0</td>\n",
       "      <td>0</td>\n",
       "    </tr>\n",
       "    <tr>\n",
       "      <th>5028</th>\n",
       "      <td>5312</td>\n",
       "      <td>2015-10-11</td>\n",
       "      <td>The Night Visitor</td>\n",
       "      <td>100000</td>\n",
       "      <td>0</td>\n",
       "      <td>0</td>\n",
       "    </tr>\n",
       "    <tr>\n",
       "      <th>4907</th>\n",
       "      <td>5381</td>\n",
       "      <td>2015-05-19</td>\n",
       "      <td>Family Motocross</td>\n",
       "      <td>10000</td>\n",
       "      <td>0</td>\n",
       "      <td>0</td>\n",
       "    </tr>\n",
       "  </tbody>\n",
       "</table>\n",
       "<p>512 rows × 6 columns</p>\n",
       "</div>"
      ],
      "text/plain": [
       "      Rank Release_Date            Movie_Title USD_Production_Budget  \\\n",
       "4526  3500   2013-12-31                Re-Kill               9500000   \n",
       "4743  4955   2014-12-08                  Jesse                950000   \n",
       "3817  4954   2010-12-31                 Trance                950000   \n",
       "4689  4953   2014-10-01        Banshee Chapter                950000   \n",
       "4843  4956   2015-03-03        Ask Me Anything                950000   \n",
       "...    ...          ...                    ...                   ...   \n",
       "4163  5306   2012-05-18  Indie Game: The Movie                100000   \n",
       "4536  5308   2013-12-31               Echo Dr.                100000   \n",
       "4783  5307   2014-12-31   Dude, Where's My Dog                100000   \n",
       "5028  5312   2015-10-11      The Night Visitor                100000   \n",
       "4907  5381   2015-05-19       Family Motocross                 10000   \n",
       "\n",
       "     USD_Worldwide_Gross USD_Domestic_Gross  \n",
       "4526                   0                  0  \n",
       "4743                   0                  0  \n",
       "3817                   0                  0  \n",
       "4689               78122                  0  \n",
       "4843                   0                  0  \n",
       "...                  ...                ...  \n",
       "4163                   0                  0  \n",
       "4536                   0                  0  \n",
       "4783                   0                  0  \n",
       "5028                   0                  0  \n",
       "4907                   0                  0  \n",
       "\n",
       "[512 rows x 6 columns]"
      ]
     },
     "execution_count": 94,
     "metadata": {},
     "output_type": "execute_result"
    }
   ],
   "source": [
    "# How many films grossed $0 domestically?\n",
    "zero_domestic_gross = df[df['USD_Domestic_Gross'].astype('float') == 0]\n",
    "zero_domestic_gross.sort_values('USD_Production_Budget', ascending=False)"
   ]
  },
  {
   "cell_type": "code",
   "execution_count": 95,
   "metadata": {},
   "outputs": [
    {
     "data": {
      "text/html": [
       "<div>\n",
       "<style scoped>\n",
       "    .dataframe tbody tr th:only-of-type {\n",
       "        vertical-align: middle;\n",
       "    }\n",
       "\n",
       "    .dataframe tbody tr th {\n",
       "        vertical-align: top;\n",
       "    }\n",
       "\n",
       "    .dataframe thead th {\n",
       "        text-align: right;\n",
       "    }\n",
       "</style>\n",
       "<table border=\"1\" class=\"dataframe\">\n",
       "  <thead>\n",
       "    <tr style=\"text-align: right;\">\n",
       "      <th></th>\n",
       "      <th>Rank</th>\n",
       "      <th>Release_Date</th>\n",
       "      <th>Movie_Title</th>\n",
       "      <th>USD_Production_Budget</th>\n",
       "      <th>USD_Worldwide_Gross</th>\n",
       "      <th>USD_Domestic_Gross</th>\n",
       "    </tr>\n",
       "  </thead>\n",
       "  <tbody>\n",
       "    <tr>\n",
       "      <th>4526</th>\n",
       "      <td>3500</td>\n",
       "      <td>2013-12-31</td>\n",
       "      <td>Re-Kill</td>\n",
       "      <td>9500000</td>\n",
       "      <td>0</td>\n",
       "      <td>0</td>\n",
       "    </tr>\n",
       "    <tr>\n",
       "      <th>4843</th>\n",
       "      <td>4956</td>\n",
       "      <td>2015-03-03</td>\n",
       "      <td>Ask Me Anything</td>\n",
       "      <td>950000</td>\n",
       "      <td>0</td>\n",
       "      <td>0</td>\n",
       "    </tr>\n",
       "    <tr>\n",
       "      <th>3817</th>\n",
       "      <td>4954</td>\n",
       "      <td>2010-12-31</td>\n",
       "      <td>Trance</td>\n",
       "      <td>950000</td>\n",
       "      <td>0</td>\n",
       "      <td>0</td>\n",
       "    </tr>\n",
       "    <tr>\n",
       "      <th>4743</th>\n",
       "      <td>4955</td>\n",
       "      <td>2014-12-08</td>\n",
       "      <td>Jesse</td>\n",
       "      <td>950000</td>\n",
       "      <td>0</td>\n",
       "      <td>0</td>\n",
       "    </tr>\n",
       "    <tr>\n",
       "      <th>4736</th>\n",
       "      <td>4958</td>\n",
       "      <td>2014-11-21</td>\n",
       "      <td>Food Chains</td>\n",
       "      <td>913000</td>\n",
       "      <td>0</td>\n",
       "      <td>0</td>\n",
       "    </tr>\n",
       "    <tr>\n",
       "      <th>...</th>\n",
       "      <td>...</td>\n",
       "      <td>...</td>\n",
       "      <td>...</td>\n",
       "      <td>...</td>\n",
       "      <td>...</td>\n",
       "      <td>...</td>\n",
       "    </tr>\n",
       "    <tr>\n",
       "      <th>4163</th>\n",
       "      <td>5306</td>\n",
       "      <td>2012-05-18</td>\n",
       "      <td>Indie Game: The Movie</td>\n",
       "      <td>100000</td>\n",
       "      <td>0</td>\n",
       "      <td>0</td>\n",
       "    </tr>\n",
       "    <tr>\n",
       "      <th>4536</th>\n",
       "      <td>5308</td>\n",
       "      <td>2013-12-31</td>\n",
       "      <td>Echo Dr.</td>\n",
       "      <td>100000</td>\n",
       "      <td>0</td>\n",
       "      <td>0</td>\n",
       "    </tr>\n",
       "    <tr>\n",
       "      <th>4783</th>\n",
       "      <td>5307</td>\n",
       "      <td>2014-12-31</td>\n",
       "      <td>Dude, Where's My Dog</td>\n",
       "      <td>100000</td>\n",
       "      <td>0</td>\n",
       "      <td>0</td>\n",
       "    </tr>\n",
       "    <tr>\n",
       "      <th>5116</th>\n",
       "      <td>5310</td>\n",
       "      <td>2015-12-31</td>\n",
       "      <td>Lunchtime Heroes</td>\n",
       "      <td>100000</td>\n",
       "      <td>0</td>\n",
       "      <td>0</td>\n",
       "    </tr>\n",
       "    <tr>\n",
       "      <th>4907</th>\n",
       "      <td>5381</td>\n",
       "      <td>2015-05-19</td>\n",
       "      <td>Family Motocross</td>\n",
       "      <td>10000</td>\n",
       "      <td>0</td>\n",
       "      <td>0</td>\n",
       "    </tr>\n",
       "  </tbody>\n",
       "</table>\n",
       "<p>357 rows × 6 columns</p>\n",
       "</div>"
      ],
      "text/plain": [
       "      Rank Release_Date            Movie_Title USD_Production_Budget  \\\n",
       "4526  3500   2013-12-31                Re-Kill               9500000   \n",
       "4843  4956   2015-03-03        Ask Me Anything                950000   \n",
       "3817  4954   2010-12-31                 Trance                950000   \n",
       "4743  4955   2014-12-08                  Jesse                950000   \n",
       "4736  4958   2014-11-21            Food Chains                913000   \n",
       "...    ...          ...                    ...                   ...   \n",
       "4163  5306   2012-05-18  Indie Game: The Movie                100000   \n",
       "4536  5308   2013-12-31               Echo Dr.                100000   \n",
       "4783  5307   2014-12-31   Dude, Where's My Dog                100000   \n",
       "5116  5310   2015-12-31       Lunchtime Heroes                100000   \n",
       "4907  5381   2015-05-19       Family Motocross                 10000   \n",
       "\n",
       "     USD_Worldwide_Gross USD_Domestic_Gross  \n",
       "4526                   0                  0  \n",
       "4843                   0                  0  \n",
       "3817                   0                  0  \n",
       "4743                   0                  0  \n",
       "4736                   0                  0  \n",
       "...                  ...                ...  \n",
       "4163                   0                  0  \n",
       "4536                   0                  0  \n",
       "4783                   0                  0  \n",
       "5116                   0                  0  \n",
       "4907                   0                  0  \n",
       "\n",
       "[357 rows x 6 columns]"
      ]
     },
     "execution_count": 95,
     "metadata": {},
     "output_type": "execute_result"
    }
   ],
   "source": [
    "# How many films grossed $0 worldwide? What are the highest budget films that had no revenue internationally (i.e., the biggest flops)?\n",
    "zero_worldwide_gross = df[df['USD_Worldwide_Gross'].astype('float') == 0]\n",
    "zero_worldwide_gross.sort_values('USD_Production_Budget', ascending=False)"
   ]
  }
 ],
 "metadata": {
  "kernelspec": {
   "display_name": "Python 3",
   "language": "python",
   "name": "python3"
  },
  "language_info": {
   "codemirror_mode": {
    "name": "ipython",
    "version": 3
   },
   "file_extension": ".py",
   "mimetype": "text/x-python",
   "name": "python",
   "nbconvert_exporter": "python",
   "pygments_lexer": "ipython3",
   "version": "3.10.12"
  }
 },
 "nbformat": 4,
 "nbformat_minor": 2
}
