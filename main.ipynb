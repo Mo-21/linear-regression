{
 "cells": [
  {
   "cell_type": "markdown",
   "metadata": {},
   "source": [
    "# Linear Regression and Data Visualization with Seaborn"
   ]
  },
  {
   "cell_type": "code",
   "execution_count": 110,
   "metadata": {},
   "outputs": [],
   "source": [
    "import pandas as pd"
   ]
  },
  {
   "cell_type": "code",
   "execution_count": 111,
   "metadata": {},
   "outputs": [],
   "source": [
    "df = pd.read_csv('data/cost_revenue_dirty.csv')"
   ]
  },
  {
   "cell_type": "markdown",
   "metadata": {},
   "source": [
    "## Data Exploration and Cleaning"
   ]
  },
  {
   "cell_type": "code",
   "execution_count": 112,
   "metadata": {},
   "outputs": [
    {
     "name": "stdout",
     "output_type": "stream",
     "text": [
      "The data have 5391 rows and 6 columns\n",
      "The data have 0 NaN values\n",
      "The data have 0 duplicated rows\n",
      "Type of columns:\n",
      "Rank                      int64\n",
      "Release_Date             object\n",
      "Movie_Title              object\n",
      "USD_Production_Budget    object\n",
      "USD_Worldwide_Gross      object\n",
      "USD_Domestic_Gross       object\n",
      "dtype: object\n"
     ]
    }
   ],
   "source": [
    "print(f'The data have {df.shape[0]} rows and {df.shape[1]} columns')\n",
    "print(f'The data have {df.isna().sum().sum()} NaN values')\n",
    "print(f'The data have {df.duplicated().sum()} duplicated rows')\n",
    "print(f'Type of columns:\\n{df.dtypes}')"
   ]
  },
  {
   "cell_type": "code",
   "execution_count": 113,
   "metadata": {},
   "outputs": [],
   "source": [
    "# Removing $ and , from the columns\n",
    "df['USD_Production_Budget'] = df['USD_Production_Budget'].str.replace('$', '').str.replace(',', '')\n",
    "df['USD_Worldwide_Gross'] = df['USD_Worldwide_Gross'].str.replace('$', '').str.replace(',', '')\n",
    "df['USD_Domestic_Gross'] = df['USD_Domestic_Gross'].str.replace('$', '').str.replace(',', '')"
   ]
  },
  {
   "cell_type": "code",
   "execution_count": 114,
   "metadata": {},
   "outputs": [],
   "source": [
    "df.Release_Date = pd.to_datetime(df.Release_Date)"
   ]
  },
  {
   "cell_type": "markdown",
   "metadata": {},
   "source": [
    "## Investigate the Films that had Zero Revenue"
   ]
  },
  {
   "cell_type": "code",
   "execution_count": 115,
   "metadata": {},
   "outputs": [],
   "source": [
    "df['USD_Production_Budget'] = pd.to_numeric(df['USD_Production_Budget'])\n",
    "df['USD_Worldwide_Gross'] = pd.to_numeric(df['USD_Worldwide_Gross'])\n",
    "df['USD_Domestic_Gross'] = pd.to_numeric(df['USD_Domestic_Gross'])"
   ]
  },
  {
   "cell_type": "code",
   "execution_count": 116,
   "metadata": {},
   "outputs": [
    {
     "data": {
      "text/plain": [
       "31113737.57837136"
      ]
     },
     "execution_count": 116,
     "metadata": {},
     "output_type": "execute_result"
    }
   ],
   "source": [
    "# the average production budget of the films in the data set\n",
    "avg_production_budget = df['USD_Production_Budget'].mean()\n",
    "avg_production_budget"
   ]
  },
  {
   "cell_type": "code",
   "execution_count": 117,
   "metadata": {},
   "outputs": [
    {
     "data": {
      "text/plain": [
       "88855421.96271564"
      ]
     },
     "execution_count": 117,
     "metadata": {},
     "output_type": "execute_result"
    }
   ],
   "source": [
    "# the average worldwide gross revenue of films\n",
    "avg_worldwide_gross = df['USD_Worldwide_Gross'].mean()\n",
    "avg_worldwide_gross"
   ]
  },
  {
   "cell_type": "code",
   "execution_count": 118,
   "metadata": {},
   "outputs": [
    {
     "name": "stdout",
     "output_type": "stream",
     "text": [
      "0\n",
      "0\n"
     ]
    }
   ],
   "source": [
    "min_domestic_gross = df['USD_Domestic_Gross'].min()\n",
    "min_worldwide_gross = df['USD_Worldwide_Gross'].min()\n",
    "print(min_domestic_gross)\n",
    "print(min_worldwide_gross)"
   ]
  },
  {
   "cell_type": "code",
   "execution_count": 119,
   "metadata": {},
   "outputs": [
    {
     "data": {
      "text/plain": [
       "3865206.0"
      ]
     },
     "execution_count": 119,
     "metadata": {},
     "output_type": "execute_result"
    }
   ],
   "source": [
    "# Are the bottom 25% of films actually profitable or do they lose money?\n",
    "bottom_25_percent = df['USD_Worldwide_Gross'].quantile(0.25)\n",
    "bottom_25_percent"
   ]
  },
  {
   "cell_type": "code",
   "execution_count": 120,
   "metadata": {},
   "outputs": [
    {
     "name": "stdout",
     "output_type": "stream",
     "text": [
      "425000000\n",
      "2783918982\n"
     ]
    }
   ],
   "source": [
    "# the highest production budget and highest worldwide gross revenue of any film\n",
    "max_production_budget = df['USD_Production_Budget'].max()\n",
    "max_worldwide_gross = df['USD_Worldwide_Gross'].max()\n",
    "print(max_production_budget)\n",
    "print(max_worldwide_gross)"
   ]
  },
  {
   "cell_type": "code",
   "execution_count": 121,
   "metadata": {},
   "outputs": [
    {
     "data": {
      "text/plain": [
       "2427    181041\n",
       "Name: USD_Worldwide_Gross, dtype: int64"
      ]
     },
     "execution_count": 121,
     "metadata": {},
     "output_type": "execute_result"
    }
   ],
   "source": [
    "# How much revenue did the lowest budget films make?\n",
    "min_production_budget = df['USD_Production_Budget'].min()\n",
    "min_budget_films = df[df['USD_Production_Budget'] == min_production_budget]\n",
    "min_budget_revenue = min_budget_films['USD_Worldwide_Gross']\n",
    "min_budget_revenue"
   ]
  },
  {
   "cell_type": "code",
   "execution_count": 125,
   "metadata": {},
   "outputs": [
    {
     "data": {
      "text/plain": [
       "3529    2783918982\n",
       "Name: USD_Worldwide_Gross, dtype: int64"
      ]
     },
     "execution_count": 125,
     "metadata": {},
     "output_type": "execute_result"
    }
   ],
   "source": [
    "# How much revenue did the highest budget films make?\n",
    "max_budget_films = df[df['USD_Production_Budget'] == max_production_budget]\n",
    "max_budget_revenue = max_budget_films['USD_Worldwide_Gross']\n",
    "max_budget_revenue"
   ]
  },
  {
   "cell_type": "code",
   "execution_count": 126,
   "metadata": {},
   "outputs": [
    {
     "data": {
      "text/html": [
       "<div>\n",
       "<style scoped>\n",
       "    .dataframe tbody tr th:only-of-type {\n",
       "        vertical-align: middle;\n",
       "    }\n",
       "\n",
       "    .dataframe tbody tr th {\n",
       "        vertical-align: top;\n",
       "    }\n",
       "\n",
       "    .dataframe thead th {\n",
       "        text-align: right;\n",
       "    }\n",
       "</style>\n",
       "<table border=\"1\" class=\"dataframe\">\n",
       "  <thead>\n",
       "    <tr style=\"text-align: right;\">\n",
       "      <th></th>\n",
       "      <th>Rank</th>\n",
       "      <th>Release_Date</th>\n",
       "      <th>Movie_Title</th>\n",
       "      <th>USD_Production_Budget</th>\n",
       "      <th>USD_Worldwide_Gross</th>\n",
       "      <th>USD_Domestic_Gross</th>\n",
       "    </tr>\n",
       "  </thead>\n",
       "  <tbody>\n",
       "    <tr>\n",
       "      <th>5388</th>\n",
       "      <td>96</td>\n",
       "      <td>2020-12-31</td>\n",
       "      <td>Singularity</td>\n",
       "      <td>175000000</td>\n",
       "      <td>0</td>\n",
       "      <td>0</td>\n",
       "    </tr>\n",
       "    <tr>\n",
       "      <th>5387</th>\n",
       "      <td>126</td>\n",
       "      <td>2018-12-18</td>\n",
       "      <td>Aquaman</td>\n",
       "      <td>160000000</td>\n",
       "      <td>0</td>\n",
       "      <td>0</td>\n",
       "    </tr>\n",
       "    <tr>\n",
       "      <th>5384</th>\n",
       "      <td>321</td>\n",
       "      <td>2018-09-03</td>\n",
       "      <td>A Wrinkle in Time</td>\n",
       "      <td>103000000</td>\n",
       "      <td>0</td>\n",
       "      <td>0</td>\n",
       "    </tr>\n",
       "    <tr>\n",
       "      <th>5385</th>\n",
       "      <td>366</td>\n",
       "      <td>2018-10-08</td>\n",
       "      <td>Amusement Park</td>\n",
       "      <td>100000000</td>\n",
       "      <td>0</td>\n",
       "      <td>0</td>\n",
       "    </tr>\n",
       "    <tr>\n",
       "      <th>5090</th>\n",
       "      <td>556</td>\n",
       "      <td>2015-12-31</td>\n",
       "      <td>Don Gato, el inicio de la pandilla</td>\n",
       "      <td>80000000</td>\n",
       "      <td>4547660</td>\n",
       "      <td>0</td>\n",
       "    </tr>\n",
       "    <tr>\n",
       "      <th>...</th>\n",
       "      <td>...</td>\n",
       "      <td>...</td>\n",
       "      <td>...</td>\n",
       "      <td>...</td>\n",
       "      <td>...</td>\n",
       "      <td>...</td>\n",
       "    </tr>\n",
       "    <tr>\n",
       "      <th>4787</th>\n",
       "      <td>5371</td>\n",
       "      <td>2014-12-31</td>\n",
       "      <td>Stories of Our Lives</td>\n",
       "      <td>15000</td>\n",
       "      <td>0</td>\n",
       "      <td>0</td>\n",
       "    </tr>\n",
       "    <tr>\n",
       "      <th>3056</th>\n",
       "      <td>5374</td>\n",
       "      <td>2007-12-31</td>\n",
       "      <td>Tin Can Man</td>\n",
       "      <td>12000</td>\n",
       "      <td>0</td>\n",
       "      <td>0</td>\n",
       "    </tr>\n",
       "    <tr>\n",
       "      <th>4907</th>\n",
       "      <td>5381</td>\n",
       "      <td>2015-05-19</td>\n",
       "      <td>Family Motocross</td>\n",
       "      <td>10000</td>\n",
       "      <td>0</td>\n",
       "      <td>0</td>\n",
       "    </tr>\n",
       "    <tr>\n",
       "      <th>5006</th>\n",
       "      <td>5389</td>\n",
       "      <td>2015-09-29</td>\n",
       "      <td>Signed Sealed Delivered</td>\n",
       "      <td>5000</td>\n",
       "      <td>0</td>\n",
       "      <td>0</td>\n",
       "    </tr>\n",
       "    <tr>\n",
       "      <th>5007</th>\n",
       "      <td>5390</td>\n",
       "      <td>2015-09-29</td>\n",
       "      <td>A Plague So Pleasant</td>\n",
       "      <td>1400</td>\n",
       "      <td>0</td>\n",
       "      <td>0</td>\n",
       "    </tr>\n",
       "  </tbody>\n",
       "</table>\n",
       "<p>512 rows × 6 columns</p>\n",
       "</div>"
      ],
      "text/plain": [
       "      Rank Release_Date                         Movie_Title  \\\n",
       "5388    96   2020-12-31                         Singularity   \n",
       "5387   126   2018-12-18                             Aquaman   \n",
       "5384   321   2018-09-03                   A Wrinkle in Time   \n",
       "5385   366   2018-10-08                      Amusement Park   \n",
       "5090   556   2015-12-31  Don Gato, el inicio de la pandilla   \n",
       "...    ...          ...                                 ...   \n",
       "4787  5371   2014-12-31                Stories of Our Lives   \n",
       "3056  5374   2007-12-31                         Tin Can Man   \n",
       "4907  5381   2015-05-19                    Family Motocross   \n",
       "5006  5389   2015-09-29             Signed Sealed Delivered   \n",
       "5007  5390   2015-09-29                A Plague So Pleasant   \n",
       "\n",
       "      USD_Production_Budget  USD_Worldwide_Gross  USD_Domestic_Gross  \n",
       "5388              175000000                    0                   0  \n",
       "5387              160000000                    0                   0  \n",
       "5384              103000000                    0                   0  \n",
       "5385              100000000                    0                   0  \n",
       "5090               80000000              4547660                   0  \n",
       "...                     ...                  ...                 ...  \n",
       "4787                  15000                    0                   0  \n",
       "3056                  12000                    0                   0  \n",
       "4907                  10000                    0                   0  \n",
       "5006                   5000                    0                   0  \n",
       "5007                   1400                    0                   0  \n",
       "\n",
       "[512 rows x 6 columns]"
      ]
     },
     "execution_count": 126,
     "metadata": {},
     "output_type": "execute_result"
    }
   ],
   "source": [
    "# How many films grossed $0 domestically?\n",
    "zero_domestic_gross = df[df['USD_Domestic_Gross'] == 0]\n",
    "zero_domestic_gross.sort_values('USD_Production_Budget', ascending=False)"
   ]
  },
  {
   "cell_type": "code",
   "execution_count": 124,
   "metadata": {},
   "outputs": [
    {
     "data": {
      "text/html": [
       "<div>\n",
       "<style scoped>\n",
       "    .dataframe tbody tr th:only-of-type {\n",
       "        vertical-align: middle;\n",
       "    }\n",
       "\n",
       "    .dataframe tbody tr th {\n",
       "        vertical-align: top;\n",
       "    }\n",
       "\n",
       "    .dataframe thead th {\n",
       "        text-align: right;\n",
       "    }\n",
       "</style>\n",
       "<table border=\"1\" class=\"dataframe\">\n",
       "  <thead>\n",
       "    <tr style=\"text-align: right;\">\n",
       "      <th></th>\n",
       "      <th>Rank</th>\n",
       "      <th>Release_Date</th>\n",
       "      <th>Movie_Title</th>\n",
       "      <th>USD_Production_Budget</th>\n",
       "      <th>USD_Worldwide_Gross</th>\n",
       "      <th>USD_Domestic_Gross</th>\n",
       "    </tr>\n",
       "  </thead>\n",
       "  <tbody>\n",
       "    <tr>\n",
       "      <th>5388</th>\n",
       "      <td>96</td>\n",
       "      <td>2020-12-31</td>\n",
       "      <td>Singularity</td>\n",
       "      <td>175000000</td>\n",
       "      <td>0</td>\n",
       "      <td>0</td>\n",
       "    </tr>\n",
       "    <tr>\n",
       "      <th>5387</th>\n",
       "      <td>126</td>\n",
       "      <td>2018-12-18</td>\n",
       "      <td>Aquaman</td>\n",
       "      <td>160000000</td>\n",
       "      <td>0</td>\n",
       "      <td>0</td>\n",
       "    </tr>\n",
       "    <tr>\n",
       "      <th>5384</th>\n",
       "      <td>321</td>\n",
       "      <td>2018-09-03</td>\n",
       "      <td>A Wrinkle in Time</td>\n",
       "      <td>103000000</td>\n",
       "      <td>0</td>\n",
       "      <td>0</td>\n",
       "    </tr>\n",
       "    <tr>\n",
       "      <th>5385</th>\n",
       "      <td>366</td>\n",
       "      <td>2018-10-08</td>\n",
       "      <td>Amusement Park</td>\n",
       "      <td>100000000</td>\n",
       "      <td>0</td>\n",
       "      <td>0</td>\n",
       "    </tr>\n",
       "    <tr>\n",
       "      <th>5058</th>\n",
       "      <td>880</td>\n",
       "      <td>2015-11-12</td>\n",
       "      <td>The Ridiculous 6</td>\n",
       "      <td>60000000</td>\n",
       "      <td>0</td>\n",
       "      <td>0</td>\n",
       "    </tr>\n",
       "    <tr>\n",
       "      <th>...</th>\n",
       "      <td>...</td>\n",
       "      <td>...</td>\n",
       "      <td>...</td>\n",
       "      <td>...</td>\n",
       "      <td>...</td>\n",
       "      <td>...</td>\n",
       "    </tr>\n",
       "    <tr>\n",
       "      <th>4787</th>\n",
       "      <td>5371</td>\n",
       "      <td>2014-12-31</td>\n",
       "      <td>Stories of Our Lives</td>\n",
       "      <td>15000</td>\n",
       "      <td>0</td>\n",
       "      <td>0</td>\n",
       "    </tr>\n",
       "    <tr>\n",
       "      <th>3056</th>\n",
       "      <td>5374</td>\n",
       "      <td>2007-12-31</td>\n",
       "      <td>Tin Can Man</td>\n",
       "      <td>12000</td>\n",
       "      <td>0</td>\n",
       "      <td>0</td>\n",
       "    </tr>\n",
       "    <tr>\n",
       "      <th>4907</th>\n",
       "      <td>5381</td>\n",
       "      <td>2015-05-19</td>\n",
       "      <td>Family Motocross</td>\n",
       "      <td>10000</td>\n",
       "      <td>0</td>\n",
       "      <td>0</td>\n",
       "    </tr>\n",
       "    <tr>\n",
       "      <th>5006</th>\n",
       "      <td>5389</td>\n",
       "      <td>2015-09-29</td>\n",
       "      <td>Signed Sealed Delivered</td>\n",
       "      <td>5000</td>\n",
       "      <td>0</td>\n",
       "      <td>0</td>\n",
       "    </tr>\n",
       "    <tr>\n",
       "      <th>5007</th>\n",
       "      <td>5390</td>\n",
       "      <td>2015-09-29</td>\n",
       "      <td>A Plague So Pleasant</td>\n",
       "      <td>1400</td>\n",
       "      <td>0</td>\n",
       "      <td>0</td>\n",
       "    </tr>\n",
       "  </tbody>\n",
       "</table>\n",
       "<p>357 rows × 6 columns</p>\n",
       "</div>"
      ],
      "text/plain": [
       "      Rank Release_Date              Movie_Title  USD_Production_Budget  \\\n",
       "5388    96   2020-12-31              Singularity              175000000   \n",
       "5387   126   2018-12-18                  Aquaman              160000000   \n",
       "5384   321   2018-09-03        A Wrinkle in Time              103000000   \n",
       "5385   366   2018-10-08           Amusement Park              100000000   \n",
       "5058   880   2015-11-12         The Ridiculous 6               60000000   \n",
       "...    ...          ...                      ...                    ...   \n",
       "4787  5371   2014-12-31     Stories of Our Lives                  15000   \n",
       "3056  5374   2007-12-31              Tin Can Man                  12000   \n",
       "4907  5381   2015-05-19         Family Motocross                  10000   \n",
       "5006  5389   2015-09-29  Signed Sealed Delivered                   5000   \n",
       "5007  5390   2015-09-29     A Plague So Pleasant                   1400   \n",
       "\n",
       "      USD_Worldwide_Gross  USD_Domestic_Gross  \n",
       "5388                    0                   0  \n",
       "5387                    0                   0  \n",
       "5384                    0                   0  \n",
       "5385                    0                   0  \n",
       "5058                    0                   0  \n",
       "...                   ...                 ...  \n",
       "4787                    0                   0  \n",
       "3056                    0                   0  \n",
       "4907                    0                   0  \n",
       "5006                    0                   0  \n",
       "5007                    0                   0  \n",
       "\n",
       "[357 rows x 6 columns]"
      ]
     },
     "execution_count": 124,
     "metadata": {},
     "output_type": "execute_result"
    }
   ],
   "source": [
    "# How many films grossed $0 worldwide? What are the highest budget films that had no revenue internationally (i.e., the biggest flops)?\n",
    "zero_worldwide_gross = df[df['USD_Worldwide_Gross'] == 0]\n",
    "zero_worldwide_gross.sort_values('USD_Production_Budget', ascending=False)"
   ]
  },
  {
   "cell_type": "code",
   "execution_count": 129,
   "metadata": {},
   "outputs": [
    {
     "data": {
      "text/html": [
       "<div>\n",
       "<style scoped>\n",
       "    .dataframe tbody tr th:only-of-type {\n",
       "        vertical-align: middle;\n",
       "    }\n",
       "\n",
       "    .dataframe tbody tr th {\n",
       "        vertical-align: top;\n",
       "    }\n",
       "\n",
       "    .dataframe thead th {\n",
       "        text-align: right;\n",
       "    }\n",
       "</style>\n",
       "<table border=\"1\" class=\"dataframe\">\n",
       "  <thead>\n",
       "    <tr style=\"text-align: right;\">\n",
       "      <th></th>\n",
       "      <th>Rank</th>\n",
       "      <th>Release_Date</th>\n",
       "      <th>Movie_Title</th>\n",
       "      <th>USD_Production_Budget</th>\n",
       "      <th>USD_Worldwide_Gross</th>\n",
       "      <th>USD_Domestic_Gross</th>\n",
       "    </tr>\n",
       "  </thead>\n",
       "  <tbody>\n",
       "    <tr>\n",
       "      <th>71</th>\n",
       "      <td>4310</td>\n",
       "      <td>1956-02-16</td>\n",
       "      <td>Carousel</td>\n",
       "      <td>3380000</td>\n",
       "      <td>3220</td>\n",
       "      <td>0</td>\n",
       "    </tr>\n",
       "    <tr>\n",
       "      <th>1579</th>\n",
       "      <td>5087</td>\n",
       "      <td>2001-02-11</td>\n",
       "      <td>Everything Put Together</td>\n",
       "      <td>500000</td>\n",
       "      <td>7890</td>\n",
       "      <td>0</td>\n",
       "    </tr>\n",
       "    <tr>\n",
       "      <th>1744</th>\n",
       "      <td>3695</td>\n",
       "      <td>2001-12-31</td>\n",
       "      <td>The Hole</td>\n",
       "      <td>7500000</td>\n",
       "      <td>10834406</td>\n",
       "      <td>0</td>\n",
       "    </tr>\n",
       "    <tr>\n",
       "      <th>2155</th>\n",
       "      <td>4236</td>\n",
       "      <td>2003-12-31</td>\n",
       "      <td>Nothing</td>\n",
       "      <td>4000000</td>\n",
       "      <td>63180</td>\n",
       "      <td>0</td>\n",
       "    </tr>\n",
       "    <tr>\n",
       "      <th>2203</th>\n",
       "      <td>2513</td>\n",
       "      <td>2004-03-31</td>\n",
       "      <td>The Touch</td>\n",
       "      <td>20000000</td>\n",
       "      <td>5918742</td>\n",
       "      <td>0</td>\n",
       "    </tr>\n",
       "    <tr>\n",
       "      <th>...</th>\n",
       "      <td>...</td>\n",
       "      <td>...</td>\n",
       "      <td>...</td>\n",
       "      <td>...</td>\n",
       "      <td>...</td>\n",
       "      <td>...</td>\n",
       "    </tr>\n",
       "    <tr>\n",
       "      <th>5340</th>\n",
       "      <td>1506</td>\n",
       "      <td>2017-04-14</td>\n",
       "      <td>Queen of the Desert</td>\n",
       "      <td>36000000</td>\n",
       "      <td>1480089</td>\n",
       "      <td>0</td>\n",
       "    </tr>\n",
       "    <tr>\n",
       "      <th>5348</th>\n",
       "      <td>2225</td>\n",
       "      <td>2017-05-05</td>\n",
       "      <td>Chāi dàn zhuānjiā</td>\n",
       "      <td>23000000</td>\n",
       "      <td>58807172</td>\n",
       "      <td>0</td>\n",
       "    </tr>\n",
       "    <tr>\n",
       "      <th>5360</th>\n",
       "      <td>4832</td>\n",
       "      <td>2017-07-03</td>\n",
       "      <td>Departure</td>\n",
       "      <td>1100000</td>\n",
       "      <td>27561</td>\n",
       "      <td>0</td>\n",
       "    </tr>\n",
       "    <tr>\n",
       "      <th>5372</th>\n",
       "      <td>1856</td>\n",
       "      <td>2017-08-25</td>\n",
       "      <td>Ballerina</td>\n",
       "      <td>30000000</td>\n",
       "      <td>48048527</td>\n",
       "      <td>0</td>\n",
       "    </tr>\n",
       "    <tr>\n",
       "      <th>5374</th>\n",
       "      <td>4237</td>\n",
       "      <td>2017-08-25</td>\n",
       "      <td>Polina danser sa vie</td>\n",
       "      <td>4000000</td>\n",
       "      <td>36630</td>\n",
       "      <td>0</td>\n",
       "    </tr>\n",
       "  </tbody>\n",
       "</table>\n",
       "<p>155 rows × 6 columns</p>\n",
       "</div>"
      ],
      "text/plain": [
       "      Rank Release_Date              Movie_Title  USD_Production_Budget  \\\n",
       "71    4310   1956-02-16                 Carousel                3380000   \n",
       "1579  5087   2001-02-11  Everything Put Together                 500000   \n",
       "1744  3695   2001-12-31                 The Hole                7500000   \n",
       "2155  4236   2003-12-31                  Nothing                4000000   \n",
       "2203  2513   2004-03-31                The Touch               20000000   \n",
       "...    ...          ...                      ...                    ...   \n",
       "5340  1506   2017-04-14      Queen of the Desert               36000000   \n",
       "5348  2225   2017-05-05        Chāi dàn zhuānjiā               23000000   \n",
       "5360  4832   2017-07-03                Departure                1100000   \n",
       "5372  1856   2017-08-25                Ballerina               30000000   \n",
       "5374  4237   2017-08-25     Polina danser sa vie                4000000   \n",
       "\n",
       "      USD_Worldwide_Gross  USD_Domestic_Gross  \n",
       "71                   3220                   0  \n",
       "1579                 7890                   0  \n",
       "1744             10834406                   0  \n",
       "2155                63180                   0  \n",
       "2203              5918742                   0  \n",
       "...                   ...                 ...  \n",
       "5340              1480089                   0  \n",
       "5348             58807172                   0  \n",
       "5360                27561                   0  \n",
       "5372             48048527                   0  \n",
       "5374                36630                   0  \n",
       "\n",
       "[155 rows x 6 columns]"
      ]
     },
     "execution_count": 129,
     "metadata": {},
     "output_type": "execute_result"
    }
   ],
   "source": [
    "# which films made money internationally but had zero box office revenue in the United States?\n",
    "international_releases = df.loc[(df['USD_Domestic_Gross'] == 0) & (df['USD_Worldwide_Gross'] != 0)]\n",
    "# OR\n",
    "international_releases = df.query('USD_Domestic_Gross == 0 and USD_Worldwide_Gross != 0')\n",
    "international_releases"
   ]
  },
  {
   "cell_type": "code",
   "execution_count": 139,
   "metadata": {},
   "outputs": [
    {
     "data": {
      "text/plain": [
       "7"
      ]
     },
     "execution_count": 139,
     "metadata": {},
     "output_type": "execute_result"
    }
   ],
   "source": [
    "# Removing the unreleased films\n",
    "unreleased_films = df.query(\n",
    "    'USD_Domestic_Gross == 0 and USD_Worldwide_Gross == 0 and Release_Date > \"2018-05-01\"'\n",
    ")\n",
    "len(unreleased_films)"
   ]
  },
  {
   "cell_type": "code",
   "execution_count": 141,
   "metadata": {},
   "outputs": [
    {
     "data": {
      "text/html": [
       "<div>\n",
       "<style scoped>\n",
       "    .dataframe tbody tr th:only-of-type {\n",
       "        vertical-align: middle;\n",
       "    }\n",
       "\n",
       "    .dataframe tbody tr th {\n",
       "        vertical-align: top;\n",
       "    }\n",
       "\n",
       "    .dataframe thead th {\n",
       "        text-align: right;\n",
       "    }\n",
       "</style>\n",
       "<table border=\"1\" class=\"dataframe\">\n",
       "  <thead>\n",
       "    <tr style=\"text-align: right;\">\n",
       "      <th></th>\n",
       "      <th>Rank</th>\n",
       "      <th>Release_Date</th>\n",
       "      <th>Movie_Title</th>\n",
       "      <th>USD_Production_Budget</th>\n",
       "      <th>USD_Worldwide_Gross</th>\n",
       "      <th>USD_Domestic_Gross</th>\n",
       "    </tr>\n",
       "  </thead>\n",
       "  <tbody>\n",
       "    <tr>\n",
       "      <th>0</th>\n",
       "      <td>5293</td>\n",
       "      <td>1915-08-02</td>\n",
       "      <td>The Birth of a Nation</td>\n",
       "      <td>110000</td>\n",
       "      <td>11000000</td>\n",
       "      <td>10000000</td>\n",
       "    </tr>\n",
       "    <tr>\n",
       "      <th>1</th>\n",
       "      <td>5140</td>\n",
       "      <td>1916-05-09</td>\n",
       "      <td>Intolerance</td>\n",
       "      <td>385907</td>\n",
       "      <td>0</td>\n",
       "      <td>0</td>\n",
       "    </tr>\n",
       "    <tr>\n",
       "      <th>2</th>\n",
       "      <td>5230</td>\n",
       "      <td>1916-12-24</td>\n",
       "      <td>20,000 Leagues Under the Sea</td>\n",
       "      <td>200000</td>\n",
       "      <td>8000000</td>\n",
       "      <td>8000000</td>\n",
       "    </tr>\n",
       "    <tr>\n",
       "      <th>3</th>\n",
       "      <td>5299</td>\n",
       "      <td>1920-09-17</td>\n",
       "      <td>Over the Hill to the Poorhouse</td>\n",
       "      <td>100000</td>\n",
       "      <td>3000000</td>\n",
       "      <td>3000000</td>\n",
       "    </tr>\n",
       "    <tr>\n",
       "      <th>4</th>\n",
       "      <td>5222</td>\n",
       "      <td>1925-01-01</td>\n",
       "      <td>The Big Parade</td>\n",
       "      <td>245000</td>\n",
       "      <td>22000000</td>\n",
       "      <td>11000000</td>\n",
       "    </tr>\n",
       "    <tr>\n",
       "      <th>...</th>\n",
       "      <td>...</td>\n",
       "      <td>...</td>\n",
       "      <td>...</td>\n",
       "      <td>...</td>\n",
       "      <td>...</td>\n",
       "      <td>...</td>\n",
       "    </tr>\n",
       "    <tr>\n",
       "      <th>5379</th>\n",
       "      <td>1295</td>\n",
       "      <td>2017-10-02</td>\n",
       "      <td>John Wick: Chapter Two</td>\n",
       "      <td>40000000</td>\n",
       "      <td>166893990</td>\n",
       "      <td>92029184</td>\n",
       "    </tr>\n",
       "    <tr>\n",
       "      <th>5380</th>\n",
       "      <td>70</td>\n",
       "      <td>2017-10-03</td>\n",
       "      <td>Kong: Skull Island</td>\n",
       "      <td>185000000</td>\n",
       "      <td>561137727</td>\n",
       "      <td>168052812</td>\n",
       "    </tr>\n",
       "    <tr>\n",
       "      <th>5381</th>\n",
       "      <td>94</td>\n",
       "      <td>2017-12-05</td>\n",
       "      <td>King Arthur: Legend of the Sword</td>\n",
       "      <td>175000000</td>\n",
       "      <td>140012608</td>\n",
       "      <td>39175066</td>\n",
       "    </tr>\n",
       "    <tr>\n",
       "      <th>5382</th>\n",
       "      <td>1254</td>\n",
       "      <td>2017-12-05</td>\n",
       "      <td>Snatched</td>\n",
       "      <td>42000000</td>\n",
       "      <td>57850343</td>\n",
       "      <td>45850343</td>\n",
       "    </tr>\n",
       "    <tr>\n",
       "      <th>5383</th>\n",
       "      <td>2521</td>\n",
       "      <td>2017-12-31</td>\n",
       "      <td>The Thousand Miles</td>\n",
       "      <td>20000000</td>\n",
       "      <td>0</td>\n",
       "      <td>0</td>\n",
       "    </tr>\n",
       "  </tbody>\n",
       "</table>\n",
       "<p>5384 rows × 6 columns</p>\n",
       "</div>"
      ],
      "text/plain": [
       "      Rank Release_Date                       Movie_Title  \\\n",
       "0     5293   1915-08-02             The Birth of a Nation   \n",
       "1     5140   1916-05-09                       Intolerance   \n",
       "2     5230   1916-12-24      20,000 Leagues Under the Sea   \n",
       "3     5299   1920-09-17    Over the Hill to the Poorhouse   \n",
       "4     5222   1925-01-01                    The Big Parade   \n",
       "...    ...          ...                               ...   \n",
       "5379  1295   2017-10-02            John Wick: Chapter Two   \n",
       "5380    70   2017-10-03                Kong: Skull Island   \n",
       "5381    94   2017-12-05  King Arthur: Legend of the Sword   \n",
       "5382  1254   2017-12-05                          Snatched   \n",
       "5383  2521   2017-12-31                The Thousand Miles   \n",
       "\n",
       "      USD_Production_Budget  USD_Worldwide_Gross  USD_Domestic_Gross  \n",
       "0                    110000             11000000            10000000  \n",
       "1                    385907                    0                   0  \n",
       "2                    200000              8000000             8000000  \n",
       "3                    100000              3000000             3000000  \n",
       "4                    245000             22000000            11000000  \n",
       "...                     ...                  ...                 ...  \n",
       "5379               40000000            166893990            92029184  \n",
       "5380              185000000            561137727           168052812  \n",
       "5381              175000000            140012608            39175066  \n",
       "5382               42000000             57850343            45850343  \n",
       "5383               20000000                    0                   0  \n",
       "\n",
       "[5384 rows x 6 columns]"
      ]
     },
     "execution_count": 141,
     "metadata": {},
     "output_type": "execute_result"
    }
   ],
   "source": [
    "data_clean = df.drop(unreleased_films.index)\n",
    "data_clean"
   ]
  },
  {
   "cell_type": "code",
   "execution_count": 148,
   "metadata": {},
   "outputs": [
    {
     "data": {
      "text/plain": [
       "37.27711738484398"
      ]
     },
     "execution_count": 148,
     "metadata": {},
     "output_type": "execute_result"
    }
   ],
   "source": [
    "# Films that Lost Money\n",
    "lost_money = data_clean.loc[data_clean['USD_Production_Budget'] > data_clean['USD_Worldwide_Gross']]\n",
    "len(lost_money) / len(data_clean) * 100"
   ]
  },
  {
   "cell_type": "code",
   "execution_count": null,
   "metadata": {},
   "outputs": [],
   "source": []
  }
 ],
 "metadata": {
  "kernelspec": {
   "display_name": "Python 3",
   "language": "python",
   "name": "python3"
  },
  "language_info": {
   "codemirror_mode": {
    "name": "ipython",
    "version": 3
   },
   "file_extension": ".py",
   "mimetype": "text/x-python",
   "name": "python",
   "nbconvert_exporter": "python",
   "pygments_lexer": "ipython3",
   "version": "3.10.12"
  }
 },
 "nbformat": 4,
 "nbformat_minor": 2
}
